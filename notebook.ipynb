{
 "metadata": {
  "language_info": {
   "codemirror_mode": {
    "name": "ipython",
    "version": 3
   },
   "file_extension": ".py",
   "mimetype": "text/x-python",
   "name": "python",
   "nbconvert_exporter": "python",
   "pygments_lexer": "ipython3",
   "version": "3.7.6-final"
  },
  "orig_nbformat": 2,
  "kernelspec": {
   "name": "python3",
   "display_name": "Python 3"
  }
 },
 "nbformat": 4,
 "nbformat_minor": 2,
 "cells": [
  {
   "cell_type": "code",
   "execution_count": 1,
   "metadata": {},
   "outputs": [],
   "source": [
    "import pandas as pd \n",
    "import numpy as np \n",
    "import matplotlib.pyplot as plt"
   ]
  },
  {
   "cell_type": "code",
   "execution_count": 1,
   "metadata": {},
   "outputs": [],
   "source": [
    "from package.src.loading import DataLoader\n",
    "loader = DataLoader('./data/kidney_disease.csv')\n",
    "loader.load(target_column=\"classification\")"
   ]
  },
  {
   "cell_type": "code",
   "execution_count": 9,
   "metadata": {},
   "outputs": [
    {
     "output_type": "stream",
     "name": "stdout",
     "text": [
      "rbc\n",
      "pc\n",
      "pcc\n",
      "ba\n",
      "pcv\n",
      "wc\n",
      "rc\n",
      "htn\n",
      "dm\n",
      "cad\n",
      "appet\n",
      "pe\n",
      "ane\n",
      "classification\n",
      "age\n",
      "bp\n",
      "sg\n",
      "al\n",
      "su\n",
      "rbc\n",
      "pc\n",
      "pcc\n",
      "ba\n",
      "bgr\n",
      "bu\n",
      "sc\n",
      "sod\n",
      "pot\n",
      "hemo\n",
      "pcv\n",
      "wc\n",
      "rc\n",
      "htn\n",
      "dm\n",
      "cad\n",
      "id\n",
      "age\n",
      "bp\n",
      "sg\n",
      "al\n",
      "su\n",
      "rbc\n",
      "pc\n",
      "pcc\n",
      "ba\n",
      "bgr\n",
      "bu\n",
      "sc\n",
      "sod\n",
      "pot\n",
      "hemo\n",
      "pcv\n",
      "wc\n",
      "rc\n",
      "htn\n",
      "dm\n",
      "('no', '\\tno')\n",
      "('\\tyes', ' yes')\n",
      "('\\tyes', 'yes')\n",
      "(' yes', 'yes')\n",
      "cad\n",
      "('no', '\\tno')\n",
      "appet\n",
      "pe\n",
      "ane\n",
      "classification\n",
      "('ckd', 'ckd\\t')\n",
      "25 componenents (PCA)\n"
     ]
    }
   ],
   "source": [
    "X, y = loader.X_train, loader.y_train\n",
    "from package.src.preprocessing import FeatureSelector, DataPreprocessor, DataNormalizer\n",
    "\n",
    "pp = DataPreprocessor()\n",
    "fs = FeatureSelector()\n",
    "X, y = pp.transform(X,y)\n",
    "fs.pca_fit(X)"
   ]
  },
  {
   "cell_type": "code",
   "execution_count": null,
   "metadata": {},
   "outputs": [],
   "source": [
    "from sklearn.preprocessing import LabelEncoder,OrdinalEncoder,OneHotEncoder\n",
    "le = LabelEncoder()\n",
    "oe = OrdinalEncoder()\n",
    "df = data[categorical_features+numerical_features]\n",
    "df['target'] = data['classification']\n",
    "df[categorical_features] = oe.fit_transform(data[categorical_features])\n",
    "df[numerical_features] = data[numerical_features]\n",
    "df['target'] = le.fit_transform(df['target'])\n",
    "features = categorical_features + numerical_features"
   ]
  },
  {
   "cell_type": "code",
   "execution_count": null,
   "metadata": {},
   "outputs": [],
   "source": []
  }
 ]
}