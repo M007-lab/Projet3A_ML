{
 "cells": [
  {
   "cell_type": "code",
   "execution_count": 1,
   "metadata": {},
   "outputs": [],
   "source": [
    "import pandas as pd \n",
    "import numpy as np \n",
    "import matplotlib.pyplot as plt"
   ]
  },
  {
   "cell_type": "code",
   "execution_count": 2,
   "metadata": {},
   "outputs": [],
   "source": [
    "from package.src.loading import DataLoader\n",
    "loader = DataLoader('/mnt/c/users/bensa/Downloads/kidney_disease.csv')\n",
    "loader.load(target_column=\"classification\")"
   ]
  },
  {
   "cell_type": "code",
   "execution_count": 7,
   "metadata": {},
   "outputs": [
    {
     "name": "stdout",
     "output_type": "stream",
     "text": [
      "rbc\n",
      "pc\n",
      "pcc\n",
      "ba\n",
      "pcv\n",
      "wc\n",
      "rc\n",
      "htn\n",
      "dm\n",
      "cad\n",
      "appet\n",
      "pe\n",
      "ane\n",
      "classification\n",
      "age\n",
      "bp\n",
      "sg\n",
      "al\n",
      "su\n",
      "rbc\n",
      "pc\n",
      "pcc\n",
      "ba\n",
      "bgr\n",
      "bu\n",
      "sc\n",
      "sod\n",
      "pot\n",
      "hemo\n",
      "pcv\n",
      "wc\n",
      "rc\n",
      "htn\n",
      "dm\n",
      "cad\n",
      "id\n",
      "age\n",
      "bp\n",
      "sg\n",
      "al\n",
      "su\n",
      "rbc\n",
      "pc\n"
     ]
    },
    {
     "name": "stderr",
     "output_type": "stream",
     "text": [
      "/home/reda/anaconda3/lib/python3.7/site-packages/pandas/core/indexing.py:670: SettingWithCopyWarning: \n",
      "A value is trying to be set on a copy of a slice from a DataFrame\n",
      "\n",
      "See the caveats in the documentation: https://pandas.pydata.org/pandas-docs/stable/user_guide/indexing.html#returning-a-view-versus-a-copy\n",
      "  self._setitem_with_indexer(indexer, value)\n"
     ]
    },
    {
     "name": "stdout",
     "output_type": "stream",
     "text": [
      "pcc\n",
      "ba\n",
      "bgr\n",
      "bu\n",
      "sc\n",
      "sod\n",
      "pot\n",
      "hemo\n",
      "pcv\n",
      "wc\n",
      "rc\n",
      "htn\n",
      "dm\n",
      "('\\tyes', 'yes')\n",
      "('\\tyes', ' yes')\n",
      "('\\tno', 'no')\n",
      "('yes', ' yes')\n",
      "cad\n",
      "('no', '\\tno')\n",
      "appet\n",
      "pe\n",
      "ane\n",
      "classification\n",
      "('ckd', 'ckd\\t')\n",
      "25 componenents (PCA)\n",
      "data reduced to 15 dimensions\n"
     ]
    },
    {
     "name": "stderr",
     "output_type": "stream",
     "text": [
      "/mnt/c/users/bensa/Downloads/Projet3A_ML/package/src/preprocessing/_preprocess.py:91: SettingWithCopyWarning: \n",
      "A value is trying to be set on a copy of a slice from a DataFrame\n",
      "\n",
      "See the caveats in the documentation: https://pandas.pydata.org/pandas-docs/stable/user_guide/indexing.html#returning-a-view-versus-a-copy\n",
      "  self.data[col_name][self.data[col_name] == values_to_exchange[0]] = values_to_exchange[1]\n"
     ]
    }
   ],
   "source": [
    "X, y = loader.X_train, loader.y_train\n",
    "from package.src.preprocessing import FeatureSelector\n",
    "from package.src.preprocessing import DataPreprocessor\n",
    "from package.src.preprocessing import DataNormaliser\n",
    "\n",
    "pp = DataPreprocessor()\n",
    "dn = DataNormaliser(\"MinMax\")\n",
    "fs = FeatureSelector()\n",
    "X,y= pp.transform(X,y)\n",
    "dn.fit(X)\n",
    "X = dn.transform(X)\n",
    "fs.pca_fit(X)\n",
    "X = fs.pca_transform(X)"
   ]
  },
  {
   "cell_type": "code",
   "execution_count": null,
   "metadata": {},
   "outputs": [],
   "source": []
  }
 ],
 "metadata": {
  "kernelspec": {
   "display_name": "Python 3",
   "language": "python",
   "name": "python3"
  },
  "language_info": {
   "codemirror_mode": {
    "name": "ipython",
    "version": 3
   },
   "file_extension": ".py",
   "mimetype": "text/x-python",
   "name": "python",
   "nbconvert_exporter": "python",
   "pygments_lexer": "ipython3",
   "version": "3.7.6"
  }
 },
 "nbformat": 4,
 "nbformat_minor": 2
}
